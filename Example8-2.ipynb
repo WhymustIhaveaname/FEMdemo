{
 "cells": [
  {
   "cell_type": "markdown",
   "id": "ef281a71",
   "metadata": {},
   "source": [
    "# This is example 8.2 of Fish's *A First Course in Finite Elements*\n",
    "\n",
    "## in which a heat conduction problem with a single quadrilateral element is solved"
   ]
  },
  {
   "cell_type": "code",
   "execution_count": 1,
   "id": "8787af2f",
   "metadata": {},
   "outputs": [],
   "source": [
    "from IPython.display import Math,display\n",
    "import sympy,numpy,scipy.integrate"
   ]
  },
  {
   "cell_type": "code",
   "execution_count": 2,
   "id": "2e588a1d",
   "metadata": {},
   "outputs": [
    {
     "data": {
      "text/latex": [
       "$\\displaystyle \\left[\\begin{matrix}0 & 1\\\\0 & 0\\\\2 & \\frac{1}{2}\\\\2 & 1\\end{matrix}\\right]$"
      ],
      "text/plain": [
       "Matrix([\n",
       "[0,   1],\n",
       "[0,   0],\n",
       "[2, 1/2],\n",
       "[2,   1]])"
      ]
     },
     "metadata": {},
     "output_type": "display_data"
    }
   ],
   "source": [
    "xy=sympy.Matrix([[0,0,2,2],[1,0,sympy.Rational(1,2),1]]).T\n",
    "display(xy)"
   ]
  },
  {
   "cell_type": "code",
   "execution_count": 3,
   "id": "8bc62b9a",
   "metadata": {},
   "outputs": [
    {
     "data": {
      "text/latex": [
       "$\\displaystyle \\left[\\begin{matrix}\\frac{\\left(1 - \\eta\\right) \\left(1 - \\xi\\right)}{4} & \\frac{\\left(1 - \\eta\\right) \\left(\\xi + 1\\right)}{4} & \\frac{\\left(\\eta + 1\\right) \\left(\\xi + 1\\right)}{4} & \\frac{\\left(1 - \\xi\\right) \\left(\\eta + 1\\right)}{4}\\end{matrix}\\right]$"
      ],
      "text/plain": [
       "Matrix([[(1 - eta)*(1 - xi)/4, (1 - eta)*(xi + 1)/4, (eta + 1)*(xi + 1)/4, (1 - xi)*(eta + 1)/4]])"
      ]
     },
     "metadata": {},
     "output_type": "display_data"
    },
    {
     "data": {
      "text/latex": [
       "$\\displaystyle \\left[\\begin{matrix}\\frac{\\eta}{4} - \\frac{1}{4} & \\frac{1}{4} - \\frac{\\eta}{4} & \\frac{\\eta}{4} + \\frac{1}{4} & - \\frac{\\eta}{4} - \\frac{1}{4}\\\\\\frac{\\xi}{4} - \\frac{1}{4} & - \\frac{\\xi}{4} - \\frac{1}{4} & \\frac{\\xi}{4} + \\frac{1}{4} & \\frac{1}{4} - \\frac{\\xi}{4}\\end{matrix}\\right]$"
      ],
      "text/plain": [
       "Matrix([\n",
       "[eta/4 - 1/4, 1/4 - eta/4, eta/4 + 1/4, -eta/4 - 1/4],\n",
       "[ xi/4 - 1/4, -xi/4 - 1/4,  xi/4 + 1/4,   1/4 - xi/4]])"
      ]
     },
     "metadata": {},
     "output_type": "display_data"
    }
   ],
   "source": [
    "# corrdinate of parent domain\n",
    "xi,eta=sympy.symbols('xi eta')\n",
    "# shape functions\n",
    "N=sympy.Rational(1,4)*sympy.Matrix([(1-xi)*(1-eta),(1+xi)*(1-eta),(1+xi)*(1+eta),(1-xi)*(1+eta)]).T\n",
    "display(N)\n",
    "# partial(N1,N2,N3,N4)/partial(xi,eta)\n",
    "GN=sympy.Matrix([[sympy.diff(i,xi) for i in N],[sympy.diff(i,eta) for i in N]])\n",
    "display(GN)"
   ]
  },
  {
   "cell_type": "code",
   "execution_count": 4,
   "id": "292c7be4",
   "metadata": {},
   "outputs": [
    {
     "data": {
      "text/latex": [
       "$\\displaystyle \\left[\\begin{matrix}0 & \\frac{\\eta}{8} - \\frac{3}{8}\\\\1 & \\frac{\\xi}{8} + \\frac{1}{8}\\end{matrix}\\right]$"
      ],
      "text/plain": [
       "Matrix([\n",
       "[0, eta/8 - 3/8],\n",
       "[1,  xi/8 + 1/8]])"
      ]
     },
     "metadata": {},
     "output_type": "display_data"
    },
    {
     "data": {
      "text/latex": [
       "$\\displaystyle \\frac{3}{8} - \\frac{\\eta}{8}$"
      ],
      "text/plain": [
       "3/8 - eta/8"
      ]
     },
     "metadata": {},
     "output_type": "display_data"
    },
    {
     "data": {
      "text/latex": [
       "$\\displaystyle \\left[\\begin{matrix}- \\frac{\\xi + 1}{\\eta - 3} & 1\\\\\\frac{8}{\\eta - 3} & 0\\end{matrix}\\right]$"
      ],
      "text/plain": [
       "Matrix([\n",
       "[-(xi + 1)/(eta - 3), 1],\n",
       "[        8/(eta - 3), 0]])"
      ]
     },
     "metadata": {},
     "output_type": "display_data"
    }
   ],
   "source": [
    "# J is partial(x,y)/partial(xi,eta)\n",
    "J=GN*xy\n",
    "Jdet=sympy.simplify(J.det())\n",
    "Jinv=sympy.simplify(J**(-1))\n",
    "display(J,Jdet,Jinv)"
   ]
  },
  {
   "cell_type": "code",
   "execution_count": 5,
   "id": "406f46b3",
   "metadata": {},
   "outputs": [
    {
     "data": {
      "text/latex": [
       "$\\displaystyle \\left[\\begin{matrix}\\frac{- \\eta - \\xi + 2}{2 \\left(\\eta - 3\\right)} & \\frac{\\xi + 1}{2 \\left(\\eta - 3\\right)} & - \\frac{\\xi + 1}{\\eta - 3} & \\frac{\\eta + 2 \\xi - 1}{2 \\left(\\eta - 3\\right)}\\\\\\frac{2 \\left(\\eta - 1\\right)}{\\eta - 3} & \\frac{2 \\left(1 - \\eta\\right)}{\\eta - 3} & \\frac{2 \\left(\\eta + 1\\right)}{\\eta - 3} & - \\frac{2 \\eta + 2}{\\eta - 3}\\end{matrix}\\right]$"
      ],
      "text/plain": [
       "Matrix([\n",
       "[(-eta - xi + 2)/(2*(eta - 3)), (xi + 1)/(2*(eta - 3)),   -(xi + 1)/(eta - 3), (eta + 2*xi - 1)/(2*(eta - 3))],\n",
       "[        2*(eta - 1)/(eta - 3),  2*(1 - eta)/(eta - 3), 2*(eta + 1)/(eta - 3),         -(2*eta + 2)/(eta - 3)]])"
      ]
     },
     "metadata": {},
     "output_type": "display_data"
    }
   ],
   "source": [
    "# partial(N1,N2,N3,N4)/partial(x,y)\n",
    "NablaN=sympy.simplify(Jinv*GN)\n",
    "display(NablaN)"
   ]
  },
  {
   "cell_type": "code",
   "execution_count": 6,
   "id": "51dc29b0",
   "metadata": {},
   "outputs": [
    {
     "name": "stdout",
     "output_type": "stream",
     "text": [
      "[[ 4.77675494 -3.52675494 -2.94649013  1.69649013]\n",
      " [-3.52675494  4.15175494  1.69649013 -2.32149013]\n",
      " [-2.94649013  1.69649013  6.60701975 -5.35701975]\n",
      " [ 1.69649013 -2.32149013 -5.35701975  5.98201975]]\n"
     ]
    }
   ],
   "source": [
    "K=numpy.zeros((4,4))\n",
    "for i in range(4):\n",
    "    for j in range(i+1):\n",
    "        f=sympy.lambdify([xi,eta],Jdet*(NablaN[:,i].T*NablaN[:,j])[0])\n",
    "        K[i,j]=scipy.integrate.dblquad(f,-1,1,-1,1)[0]\n",
    "        if j<i:\n",
    "            K[j,i]=K[i,j]\n",
    "# The K matrix on page 199\n",
    "print(5*K)"
   ]
  }
 ],
 "metadata": {
  "kernelspec": {
   "display_name": "Python 3 (ipykernel)",
   "language": "python",
   "name": "python3"
  },
  "language_info": {
   "codemirror_mode": {
    "name": "ipython",
    "version": 3
   },
   "file_extension": ".py",
   "mimetype": "text/x-python",
   "name": "python",
   "nbconvert_exporter": "python",
   "pygments_lexer": "ipython3",
   "version": "3.8.10"
  }
 },
 "nbformat": 4,
 "nbformat_minor": 5
}
