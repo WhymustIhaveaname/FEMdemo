{
 "cells": [
  {
   "cell_type": "code",
   "execution_count": 1,
   "id": "78b717ed",
   "metadata": {},
   "outputs": [],
   "source": [
    "from IPython.display import Math,display\n",
    "import sympy"
   ]
  },
  {
   "cell_type": "code",
   "execution_count": 2,
   "id": "563ba91a",
   "metadata": {},
   "outputs": [
    {
     "data": {
      "text/latex": [
       "$\\displaystyle \\left[\\begin{matrix}x_{0} & y_{0}\\\\x_{1} & y_{1}\\\\x_{2} & y_{2}\\end{matrix}\\right]$"
      ],
      "text/plain": [
       "Matrix([\n",
       "[x0, y0],\n",
       "[x1, y1],\n",
       "[x2, y2]])"
      ]
     },
     "metadata": {},
     "output_type": "display_data"
    }
   ],
   "source": [
    "# the coordinate of three nodes\n",
    "# I want to show two different grammars\n",
    "xs=x0,x1,x2=sympy.symbols('x0 x1 x2')\n",
    "ys=y0,y1,y2=sympy.symbols('y:3')\n",
    "xy=sympy.Matrix([xs,ys]).T\n",
    "display(xy)"
   ]
  },
  {
   "cell_type": "code",
   "execution_count": 3,
   "id": "f093653b",
   "metadata": {},
   "outputs": [
    {
     "data": {
      "text/latex": [
       "$\\displaystyle \\left[\\begin{matrix}- \\eta - \\xi + 1 & \\xi & \\eta\\end{matrix}\\right]$"
      ],
      "text/plain": [
       "Matrix([[-eta - xi + 1, xi, eta]])"
      ]
     },
     "metadata": {},
     "output_type": "display_data"
    },
    {
     "data": {
      "text/latex": [
       "$\\displaystyle \\left[\\begin{matrix}-1 & 1 & 0\\\\-1 & 0 & 1\\end{matrix}\\right]$"
      ],
      "text/plain": [
       "Matrix([\n",
       "[-1, 1, 0],\n",
       "[-1, 0, 1]])"
      ]
     },
     "metadata": {},
     "output_type": "display_data"
    }
   ],
   "source": [
    "# corrdinate of parent domain\n",
    "xi,eta=sympy.symbols('xi eta')\n",
    "# shape functions\n",
    "N=sympy.Matrix([1-xi-eta,xi,eta]).T\n",
    "display(N)\n",
    "# partial(N1,N2,N3)/partial(xi,eta)\n",
    "GN=sympy.Matrix([[sympy.diff(i,xi) for i in N],[sympy.diff(i,eta) for i in N]])\n",
    "display(GN)"
   ]
  },
  {
   "cell_type": "code",
   "execution_count": 4,
   "id": "d8c144b5",
   "metadata": {},
   "outputs": [
    {
     "data": {
      "text/latex": [
       "$\\displaystyle \\left[\\begin{matrix}- x_{0} + x_{1} & - y_{0} + y_{1}\\\\- x_{0} + x_{2} & - y_{0} + y_{2}\\end{matrix}\\right]$"
      ],
      "text/plain": [
       "Matrix([\n",
       "[-x0 + x1, -y0 + y1],\n",
       "[-x0 + x2, -y0 + y2]])"
      ]
     },
     "metadata": {},
     "output_type": "display_data"
    },
    {
     "data": {
      "text/latex": [
       "$\\displaystyle x_{0} y_{1} - x_{0} y_{2} - x_{1} y_{0} + x_{1} y_{2} + x_{2} y_{0} - x_{2} y_{1}$"
      ],
      "text/plain": [
       "x0*y1 - x0*y2 - x1*y0 + x1*y2 + x2*y0 - x2*y1"
      ]
     },
     "metadata": {},
     "output_type": "display_data"
    }
   ],
   "source": [
    "# J is partial(x,y)/partial(xi,eta)\n",
    "J=GN*xy\n",
    "display(J)\n",
    "Jdet=J.det()\n",
    "display(Jdet)\n",
    "Jinv=J**(-1)"
   ]
  },
  {
   "cell_type": "code",
   "execution_count": 5,
   "id": "95ab1d80",
   "metadata": {},
   "outputs": [
    {
     "data": {
      "text/latex": [
       "$\\displaystyle \\left[\\begin{matrix}\\frac{y_{1} - y_{2}}{x_{0} y_{1} - x_{0} y_{2} - x_{1} y_{0} + x_{1} y_{2} + x_{2} y_{0} - x_{2} y_{1}} & \\frac{- y_{0} + y_{2}}{x_{0} y_{1} - x_{0} y_{2} - x_{1} y_{0} + x_{1} y_{2} + x_{2} y_{0} - x_{2} y_{1}} & \\frac{y_{0} - y_{1}}{x_{0} y_{1} - x_{0} y_{2} - x_{1} y_{0} + x_{1} y_{2} + x_{2} y_{0} - x_{2} y_{1}}\\\\\\frac{- x_{1} + x_{2}}{x_{0} y_{1} - x_{0} y_{2} - x_{1} y_{0} + x_{1} y_{2} + x_{2} y_{0} - x_{2} y_{1}} & \\frac{x_{0} - x_{2}}{x_{0} y_{1} - x_{0} y_{2} - x_{1} y_{0} + x_{1} y_{2} + x_{2} y_{0} - x_{2} y_{1}} & \\frac{- x_{0} + x_{1}}{x_{0} y_{1} - x_{0} y_{2} - x_{1} y_{0} + x_{1} y_{2} + x_{2} y_{0} - x_{2} y_{1}}\\end{matrix}\\right]$"
      ],
      "text/plain": [
       "Matrix([\n",
       "[ (y1 - y2)/(x0*y1 - x0*y2 - x1*y0 + x1*y2 + x2*y0 - x2*y1), (-y0 + y2)/(x0*y1 - x0*y2 - x1*y0 + x1*y2 + x2*y0 - x2*y1),  (y0 - y1)/(x0*y1 - x0*y2 - x1*y0 + x1*y2 + x2*y0 - x2*y1)],\n",
       "[(-x1 + x2)/(x0*y1 - x0*y2 - x1*y0 + x1*y2 + x2*y0 - x2*y1),  (x0 - x2)/(x0*y1 - x0*y2 - x1*y0 + x1*y2 + x2*y0 - x2*y1), (-x0 + x1)/(x0*y1 - x0*y2 - x1*y0 + x1*y2 + x2*y0 - x2*y1)]])"
      ]
     },
     "metadata": {},
     "output_type": "display_data"
    }
   ],
   "source": [
    "# partial(N1,N2,N3)/partial(x,y)\n",
    "# or the B matrix in (7.20) of textbook\n",
    "NablaN=sympy.simplify(Jinv*GN)\n",
    "display(NablaN)"
   ]
  },
  {
   "cell_type": "code",
   "execution_count": 6,
   "id": "74e1b0a7",
   "metadata": {},
   "outputs": [
    {
     "data": {
      "text/latex": [
       "$\\displaystyle \\left[\\begin{matrix}\\frac{\\frac{x_{1}^{2}}{2} - x_{1} x_{2} + \\frac{x_{2}^{2}}{2} + \\frac{y_{1}^{2}}{2} - y_{1} y_{2} + \\frac{y_{2}^{2}}{2}}{x_{0} y_{1} - x_{0} y_{2} - x_{1} y_{0} + x_{1} y_{2} + x_{2} y_{0} - x_{2} y_{1}} & \\frac{- x_{0} x_{1} + x_{0} x_{2} + x_{1} x_{2} - x_{2}^{2} - y_{0} y_{1} + y_{0} y_{2} + y_{1} y_{2} - y_{2}^{2}}{2 \\left(x_{0} y_{1} - x_{0} y_{2} - x_{1} y_{0} + x_{1} y_{2} + x_{2} y_{0} - x_{2} y_{1}\\right)} & \\frac{x_{0} x_{1} - x_{0} x_{2} - x_{1}^{2} + x_{1} x_{2} + y_{0} y_{1} - y_{0} y_{2} - y_{1}^{2} + y_{1} y_{2}}{2 \\left(x_{0} y_{1} - x_{0} y_{2} - x_{1} y_{0} + x_{1} y_{2} + x_{2} y_{0} - x_{2} y_{1}\\right)}\\\\\\frac{- x_{0} x_{1} + x_{0} x_{2} + x_{1} x_{2} - x_{2}^{2} - y_{0} y_{1} + y_{0} y_{2} + y_{1} y_{2} - y_{2}^{2}}{2 \\left(x_{0} y_{1} - x_{0} y_{2} - x_{1} y_{0} + x_{1} y_{2} + x_{2} y_{0} - x_{2} y_{1}\\right)} & \\frac{\\frac{x_{0}^{2}}{2} - x_{0} x_{2} + \\frac{x_{2}^{2}}{2} + \\frac{y_{0}^{2}}{2} - y_{0} y_{2} + \\frac{y_{2}^{2}}{2}}{x_{0} y_{1} - x_{0} y_{2} - x_{1} y_{0} + x_{1} y_{2} + x_{2} y_{0} - x_{2} y_{1}} & \\frac{- x_{0}^{2} + x_{0} x_{1} + x_{0} x_{2} - x_{1} x_{2} - y_{0}^{2} + y_{0} y_{1} + y_{0} y_{2} - y_{1} y_{2}}{2 \\left(x_{0} y_{1} - x_{0} y_{2} - x_{1} y_{0} + x_{1} y_{2} + x_{2} y_{0} - x_{2} y_{1}\\right)}\\\\\\frac{x_{0} x_{1} - x_{0} x_{2} - x_{1}^{2} + x_{1} x_{2} + y_{0} y_{1} - y_{0} y_{2} - y_{1}^{2} + y_{1} y_{2}}{2 \\left(x_{0} y_{1} - x_{0} y_{2} - x_{1} y_{0} + x_{1} y_{2} + x_{2} y_{0} - x_{2} y_{1}\\right)} & \\frac{- x_{0}^{2} + x_{0} x_{1} + x_{0} x_{2} - x_{1} x_{2} - y_{0}^{2} + y_{0} y_{1} + y_{0} y_{2} - y_{1} y_{2}}{2 \\left(x_{0} y_{1} - x_{0} y_{2} - x_{1} y_{0} + x_{1} y_{2} + x_{2} y_{0} - x_{2} y_{1}\\right)} & \\frac{\\frac{x_{0}^{2}}{2} - x_{0} x_{1} + \\frac{x_{1}^{2}}{2} + \\frac{y_{0}^{2}}{2} - y_{0} y_{1} + \\frac{y_{1}^{2}}{2}}{x_{0} y_{1} - x_{0} y_{2} - x_{1} y_{0} + x_{1} y_{2} + x_{2} y_{0} - x_{2} y_{1}}\\end{matrix}\\right]$"
      ],
      "text/plain": [
       "Matrix([\n",
       "[             (x1**2/2 - x1*x2 + x2**2/2 + y1**2/2 - y1*y2 + y2**2/2)/(x0*y1 - x0*y2 - x1*y0 + x1*y2 + x2*y0 - x2*y1), (-x0*x1 + x0*x2 + x1*x2 - x2**2 - y0*y1 + y0*y2 + y1*y2 - y2**2)/(2*(x0*y1 - x0*y2 - x1*y0 + x1*y2 + x2*y0 - x2*y1)),  (x0*x1 - x0*x2 - x1**2 + x1*x2 + y0*y1 - y0*y2 - y1**2 + y1*y2)/(2*(x0*y1 - x0*y2 - x1*y0 + x1*y2 + x2*y0 - x2*y1))],\n",
       "[(-x0*x1 + x0*x2 + x1*x2 - x2**2 - y0*y1 + y0*y2 + y1*y2 - y2**2)/(2*(x0*y1 - x0*y2 - x1*y0 + x1*y2 + x2*y0 - x2*y1)),              (x0**2/2 - x0*x2 + x2**2/2 + y0**2/2 - y0*y2 + y2**2/2)/(x0*y1 - x0*y2 - x1*y0 + x1*y2 + x2*y0 - x2*y1), (-x0**2 + x0*x1 + x0*x2 - x1*x2 - y0**2 + y0*y1 + y0*y2 - y1*y2)/(2*(x0*y1 - x0*y2 - x1*y0 + x1*y2 + x2*y0 - x2*y1))],\n",
       "[ (x0*x1 - x0*x2 - x1**2 + x1*x2 + y0*y1 - y0*y2 - y1**2 + y1*y2)/(2*(x0*y1 - x0*y2 - x1*y0 + x1*y2 + x2*y0 - x2*y1)), (-x0**2 + x0*x1 + x0*x2 - x1*x2 - y0**2 + y0*y1 + y0*y2 - y1*y2)/(2*(x0*y1 - x0*y2 - x1*y0 + x1*y2 + x2*y0 - x2*y1)),              (x0**2/2 - x0*x1 + x1**2/2 + y0**2/2 - y0*y1 + y1**2/2)/(x0*y1 - x0*y2 - x1*y0 + x1*y2 + x2*y0 - x2*y1)]])"
      ]
     },
     "metadata": {},
     "output_type": "display_data"
    }
   ],
   "source": [
    "K=[]\n",
    "for i in range(3):\n",
    "    K.append([])\n",
    "    for j in range(3):\n",
    "        integrand0=sympy.simplify(Jdet*(NablaN[:,i].T*NablaN[:,j])[0])\n",
    "        integrand1=sympy.integrate(integrand0,(eta,0,1-xi))\n",
    "        integrand2=sympy.integrate(integrand1,(xi,0,1))\n",
    "        K[-1].append(sympy.simplify(integrand2))\n",
    "K=sympy.Matrix(K)\n",
    "display(K)"
   ]
  },
  {
   "cell_type": "code",
   "execution_count": 7,
   "id": "e2ec9a05",
   "metadata": {},
   "outputs": [
    {
     "data": {
      "text/latex": [
       "$\\displaystyle \\left[\\begin{matrix}5.3125 & -0.625 & -4.6875\\\\-0.625 & 1.25 & -0.625\\\\-4.6875 & -0.625 & 5.3125\\end{matrix}\\right]$"
      ],
      "text/plain": [
       "Matrix([\n",
       "[ 5.3125, -0.625, -4.6875],\n",
       "[ -0.625,   1.25,  -0.625],\n",
       "[-4.6875, -0.625,  5.3125]])"
      ]
     },
     "execution_count": 7,
     "metadata": {},
     "output_type": "execute_result"
    }
   ],
   "source": [
    "# substitude the coordinates of element 1 in Example 8.1\n",
    "xyval=[(xs[0],0),(xs[1],2),(xs[2],0),(ys[0],0),(ys[1],sympy.Rational(1,2)),(ys[2],1)]\n",
    "5*K.subs(xyval).evalf()"
   ]
  },
  {
   "cell_type": "code",
   "execution_count": 8,
   "id": "ab1c8465",
   "metadata": {},
   "outputs": [
    {
     "data": {
      "text/latex": [
       "$\\displaystyle \\left[\\begin{matrix}10.0 & -10.0 & 0\\\\-10.0 & 10.625 & -0.625\\\\0 & -0.625 & 0.625\\end{matrix}\\right]$"
      ],
      "text/plain": [
       "Matrix([\n",
       "[ 10.0,  -10.0,      0],\n",
       "[-10.0, 10.625, -0.625],\n",
       "[    0, -0.625,  0.625]])"
      ]
     },
     "execution_count": 8,
     "metadata": {},
     "output_type": "execute_result"
    }
   ],
   "source": [
    "# substitude the coordinates of element 2 in Example 8.1\n",
    "xyval=[(xs[0],2),(xs[1],2),(xs[2],0),(ys[0],sympy.Rational(1,2)),(ys[1],1),(ys[2],1)]\n",
    "5*K.subs(xyval).evalf()"
   ]
  }
 ],
 "metadata": {
  "kernelspec": {
   "display_name": "Python 3 (ipykernel)",
   "language": "python",
   "name": "python3"
  },
  "language_info": {
   "codemirror_mode": {
    "name": "ipython",
    "version": 3
   },
   "file_extension": ".py",
   "mimetype": "text/x-python",
   "name": "python",
   "nbconvert_exporter": "python",
   "pygments_lexer": "ipython3",
   "version": "3.8.10"
  }
 },
 "nbformat": 4,
 "nbformat_minor": 5
}
