{
 "cells": [
  {
   "cell_type": "markdown",
   "id": "ffc29f77",
   "metadata": {},
   "source": [
    "## First let's do some symbolic derivation"
   ]
  },
  {
   "cell_type": "code",
   "execution_count": 1,
   "id": "de1dec6b",
   "metadata": {},
   "outputs": [],
   "source": [
    "from IPython.display import Math,display\n",
    "import sympy"
   ]
  },
  {
   "cell_type": "code",
   "execution_count": 2,
   "id": "3eebb9da",
   "metadata": {},
   "outputs": [
    {
     "data": {
      "text/latex": [
       "$\\displaystyle \\left[\\begin{matrix}x_{0} & y_{0}\\\\x_{1} & y_{1}\\\\x_{2} & y_{2}\\\\x_{3} & y_{3}\\end{matrix}\\right]$"
      ],
      "text/plain": [
       "Matrix([\n",
       "[x0, y0],\n",
       "[x1, y1],\n",
       "[x2, y2],\n",
       "[x3, y3]])"
      ]
     },
     "metadata": {},
     "output_type": "display_data"
    }
   ],
   "source": [
    "xs=x0,x1,x2,x3=sympy.symbols('x:4')\n",
    "ys=y0,y1,y2,y3=sympy.symbols('y:4')\n",
    "xy=sympy.Matrix([xs,ys]).T\n",
    "display(xy)"
   ]
  },
  {
   "cell_type": "code",
   "execution_count": 3,
   "id": "f73c0051",
   "metadata": {},
   "outputs": [
    {
     "data": {
      "text/latex": [
       "$\\displaystyle \\left[\\begin{matrix}\\frac{\\left(1 - \\eta\\right) \\left(1 - \\xi\\right)}{4} & \\frac{\\left(1 - \\eta\\right) \\left(\\xi + 1\\right)}{4} & \\frac{\\left(\\eta + 1\\right) \\left(\\xi + 1\\right)}{4} & \\frac{\\left(1 - \\xi\\right) \\left(\\eta + 1\\right)}{4}\\end{matrix}\\right]$"
      ],
      "text/plain": [
       "Matrix([[(1 - eta)*(1 - xi)/4, (1 - eta)*(xi + 1)/4, (eta + 1)*(xi + 1)/4, (1 - xi)*(eta + 1)/4]])"
      ]
     },
     "metadata": {},
     "output_type": "display_data"
    },
    {
     "data": {
      "text/latex": [
       "$\\displaystyle \\left[\\begin{matrix}\\frac{\\eta}{4} - \\frac{1}{4} & \\frac{1}{4} - \\frac{\\eta}{4} & \\frac{\\eta}{4} + \\frac{1}{4} & - \\frac{\\eta}{4} - \\frac{1}{4}\\\\\\frac{\\xi}{4} - \\frac{1}{4} & - \\frac{\\xi}{4} - \\frac{1}{4} & \\frac{\\xi}{4} + \\frac{1}{4} & \\frac{1}{4} - \\frac{\\xi}{4}\\end{matrix}\\right]$"
      ],
      "text/plain": [
       "Matrix([\n",
       "[eta/4 - 1/4, 1/4 - eta/4, eta/4 + 1/4, -eta/4 - 1/4],\n",
       "[ xi/4 - 1/4, -xi/4 - 1/4,  xi/4 + 1/4,   1/4 - xi/4]])"
      ]
     },
     "metadata": {},
     "output_type": "display_data"
    }
   ],
   "source": [
    "# corrdinate of parent domain\n",
    "xi,eta=sympy.symbols('xi eta')\n",
    "# shape functions\n",
    "N=sympy.Rational(1,4)*sympy.Matrix([(1-xi)*(1-eta),(1+xi)*(1-eta),(1+xi)*(1+eta),(1-xi)*(1+eta)]).T\n",
    "display(N)\n",
    "# partial(N1,N2,N3,N4)/partial(xi,eta)\n",
    "GN=sympy.Matrix([[sympy.diff(i,xi) for i in N],[sympy.diff(i,eta) for i in N]])\n",
    "display(GN)"
   ]
  },
  {
   "cell_type": "code",
   "execution_count": 4,
   "id": "9a86cfa8",
   "metadata": {},
   "outputs": [
    {
     "data": {
      "text/latex": [
       "$\\displaystyle \\left[\\begin{matrix}\\frac{x_{0} \\left(\\eta - 1\\right)}{4} - \\frac{x_{1} \\left(\\eta - 1\\right)}{4} + \\frac{x_{2} \\left(\\eta + 1\\right)}{4} - \\frac{x_{3} \\left(\\eta + 1\\right)}{4} & \\frac{y_{0} \\left(\\eta - 1\\right)}{4} - \\frac{y_{1} \\left(\\eta - 1\\right)}{4} + \\frac{y_{2} \\left(\\eta + 1\\right)}{4} - \\frac{y_{3} \\left(\\eta + 1\\right)}{4}\\\\\\frac{x_{0} \\left(\\xi - 1\\right)}{4} - \\frac{x_{1} \\left(\\xi + 1\\right)}{4} + \\frac{x_{2} \\left(\\xi + 1\\right)}{4} - \\frac{x_{3} \\left(\\xi - 1\\right)}{4} & \\frac{y_{0} \\left(\\xi - 1\\right)}{4} - \\frac{y_{1} \\left(\\xi + 1\\right)}{4} + \\frac{y_{2} \\left(\\xi + 1\\right)}{4} - \\frac{y_{3} \\left(\\xi - 1\\right)}{4}\\end{matrix}\\right]$"
      ],
      "text/plain": [
       "Matrix([\n",
       "[x0*(eta - 1)/4 - x1*(eta - 1)/4 + x2*(eta + 1)/4 - x3*(eta + 1)/4, y0*(eta - 1)/4 - y1*(eta - 1)/4 + y2*(eta + 1)/4 - y3*(eta + 1)/4],\n",
       "[    x0*(xi - 1)/4 - x1*(xi + 1)/4 + x2*(xi + 1)/4 - x3*(xi - 1)/4,     y0*(xi - 1)/4 - y1*(xi + 1)/4 + y2*(xi + 1)/4 - y3*(xi - 1)/4]])"
      ]
     },
     "metadata": {},
     "output_type": "display_data"
    }
   ],
   "source": [
    "# J is partial(x,y)/partial(xi,eta)\n",
    "J=sympy.simplify(GN*xy)\n",
    "display(J)\n",
    "Jdet=sympy.simplify(J.det())\n",
    "Jinv=sympy.simplify(J**(-1))\n",
    "# partial(N1,N2,N3,N4)/partial(x,y)\n",
    "NablaN=sympy.simplify(Jinv*GN)"
   ]
  },
  {
   "cell_type": "code",
   "execution_count": 5,
   "id": "ab8d0d2d",
   "metadata": {},
   "outputs": [],
   "source": [
    "Ksym=[]\n",
    "for i in range(4):\n",
    "    Ksym.append([])\n",
    "    for j in range(0,i+1):\n",
    "        integrand=sympy.simplify(Jdet*(NablaN[:,i].T*NablaN[:,j])[0])\n",
    "        Ksym[-1].append(integrand)"
   ]
  },
  {
   "cell_type": "markdown",
   "id": "85e17ca8",
   "metadata": {},
   "source": [
    "## Then I read a mesh exported from blender"
   ]
  },
  {
   "cell_type": "code",
   "execution_count": 6,
   "id": "24763630",
   "metadata": {},
   "outputs": [],
   "source": [
    "#%matplotlib notebook\n",
    "import meshio,numpy\n",
    "meshio.__version__\n",
    "import matplotlib.pyplot as plt"
   ]
  },
  {
   "cell_type": "code",
   "execution_count": 7,
   "id": "cf826178",
   "metadata": {},
   "outputs": [
    {
     "name": "stdout",
     "output_type": "stream",
     "text": [
      "<meshio mesh object>\n",
      "  Number of points: 36\n",
      "  Number of cells:\n",
      "    quad: 25\n",
      "  Point data: nx, ny, nz, s, t\n"
     ]
    }
   ],
   "source": [
    "sample=meshio.read(\"square5x5.ply\")\n",
    "#sample=meshio.read(\"square20x20.ply\")\n",
    "print(sample)"
   ]
  },
  {
   "cell_type": "code",
   "execution_count": 8,
   "id": "b02d9586",
   "metadata": {
    "scrolled": true
   },
   "outputs": [
    {
     "name": "stdout",
     "output_type": "stream",
     "text": [
      "[[-1.         -1.        ]\n",
      " [-0.6        -1.        ]\n",
      " [-0.6        -0.6       ]\n",
      " [-1.         -0.6       ]\n",
      " [-0.19999999 -1.        ]\n",
      " [-0.19999999 -0.6       ]\n",
      " [ 0.20000005 -1.        ]\n",
      " [ 0.20000005 -0.6       ]\n",
      " [ 0.6        -1.        ]\n",
      " [ 0.6        -0.6       ]\n",
      " [ 1.         -1.        ]\n",
      " [ 1.         -0.6       ]\n",
      " [-0.6        -0.19999999]\n",
      " [-1.         -0.19999999]\n",
      " [-0.19999999 -0.19999999]\n",
      " [ 0.20000005 -0.19999999]\n",
      " [ 0.6        -0.19999999]\n",
      " [ 1.         -0.19999999]\n",
      " [-0.6         0.20000005]\n",
      " [-1.          0.20000005]\n",
      " [-0.19999999  0.20000005]\n",
      " [ 0.20000005  0.20000005]\n",
      " [ 0.6         0.20000005]\n",
      " [ 1.          0.20000005]\n",
      " [-0.6         0.6       ]\n",
      " [-1.          0.6       ]\n",
      " [-0.19999999  0.6       ]\n",
      " [ 0.20000005  0.6       ]\n",
      " [ 0.6         0.6       ]\n",
      " [ 1.          0.6       ]\n",
      " [-0.6         1.        ]\n",
      " [-1.          1.        ]\n",
      " [-0.19999999  1.        ]\n",
      " [ 0.20000005  1.        ]\n",
      " [ 0.6         1.        ]\n",
      " [ 1.          1.        ]]\n",
      "[[ 0  1  2  3]\n",
      " [ 1  4  5  2]\n",
      " [ 4  6  7  5]\n",
      " [ 6  8  9  7]\n",
      " [ 8 10 11  9]\n",
      " [ 3  2 12 13]\n",
      " [ 2  5 14 12]\n",
      " [ 5  7 15 14]\n",
      " [ 7  9 16 15]\n",
      " [ 9 11 17 16]\n",
      " [13 12 18 19]\n",
      " [12 14 20 18]\n",
      " [14 15 21 20]\n",
      " [15 16 22 21]\n",
      " [16 17 23 22]\n",
      " [19 18 24 25]\n",
      " [18 20 26 24]\n",
      " [20 21 27 26]\n",
      " [21 22 28 27]\n",
      " [22 23 29 28]\n",
      " [25 24 30 31]\n",
      " [24 26 32 30]\n",
      " [26 27 33 32]\n",
      " [27 28 34 33]\n",
      " [28 29 35 34]]\n"
     ]
    }
   ],
   "source": [
    "points=sample.__dict__['points'][:,0:2]\n",
    "cells=sample.cells_dict['quad']\n",
    "Npts=len(points)\n",
    "print(points)\n",
    "print(cells)"
   ]
  },
  {
   "cell_type": "code",
   "execution_count": 9,
   "id": "6a51fa23",
   "metadata": {},
   "outputs": [
    {
     "data": {
      "image/png": "[encoded data removed]",
      "text/plain": [
       "<Figure size 432x288 with 1 Axes>"
      ]
     },
     "metadata": {
      "needs_background": "light"
     },
     "output_type": "display_data"
    }
   ],
   "source": [
    "textdx=0.2*(2/numpy.sqrt(Npts))\n",
    "plt.scatter(points[:,0],points[:,1],s=4)\n",
    "for i,p in enumerate(points):\n",
    "    plt.text(p[0]+textdx,p[1],str(i),fontsize=12)\n",
    "plt.show()"
   ]
  },
  {
   "cell_type": "code",
   "execution_count": 10,
   "id": "35d2f81e",
   "metadata": {},
   "outputs": [
    {
     "name": "stdout",
     "output_type": "stream",
     "text": [
      "bd1st (len=20):\n",
      " {0: -3.0, 1: -2.600000023841858, 3: -2.200000047683716, 4: -2.199999988079071, 6: -1.7999999523162842, 8: -1.399999976158142, 10: -1.0, 11: -0.20000004768371582, 13: -1.399999976158142, 17: 0.6000000238418579, 19: -0.5999999046325684, 23: 1.4000000953674316, 25: 0.20000004768371582, 29: 2.200000047683716, 30: 1.399999976158142, 31: 1.0, 32: 1.800000011920929, 33: 2.200000047683716, 34: 2.600000023841858, 35: 3.0}\n",
      "\n",
      "bd2nd (len=0):\n",
      " {}\n"
     ]
    }
   ],
   "source": [
    "# define boundary conditions\n",
    "def bdfun(p):\n",
    "    return p[0]*1+p[1]*2\n",
    "\n",
    "counter=numpy.zeros(Npts,dtype=numpy.uint)\n",
    "for c in cells:\n",
    "    for i in c:\n",
    "        counter[i]+=1\n",
    "        \n",
    "bd1st={};bd2nd={}\n",
    "for i in range(Npts):\n",
    "    if counter[i]==4:\n",
    "        continue\n",
    "    if numpy.isclose(points[i][1],-1) or numpy.isclose(points[i][1],1) or\\\n",
    "       numpy.isclose(points[i][0],-1) or numpy.isclose(points[i][0],1):\n",
    "        bd1st[i]=bdfun(points[i])\n",
    "    else:\n",
    "        bd2nd[i]=None\n",
    "print(\"bd1st (len=%d):\\n\"%(len(bd1st)),bd1st)\n",
    "print(\"\")\n",
    "print(\"bd2nd (len=%d):\\n\"%(len(bd2nd)),bd2nd)"
   ]
  },
  {
   "cell_type": "code",
   "execution_count": 11,
   "id": "11ba0be5",
   "metadata": {},
   "outputs": [
    {
     "name": "stdout",
     "output_type": "stream",
     "text": [
      "{2: 0, 5: 1, 7: 2, 9: 3, 12: 4, 14: 5, 15: 6, 16: 7, 18: 8, 20: 9, 21: 10, 22: 11, 24: 12, 26: 13, 27: 14, 28: 15}\n"
     ]
    }
   ],
   "source": [
    "counter=0\n",
    "g2i={}\n",
    "for i in range(Npts):\n",
    "    if i not in bd1st:\n",
    "        g2i[i]=counter\n",
    "        counter+=1\n",
    "Nipts=len(g2i)\n",
    "print(g2i)"
   ]
  },
  {
   "cell_type": "markdown",
   "id": "9f610c1b",
   "metadata": {},
   "source": [
    "## Then begins the real FEM"
   ]
  },
  {
   "cell_type": "code",
   "execution_count": 12,
   "id": "31316007",
   "metadata": {},
   "outputs": [],
   "source": [
    "from tqdm import tqdm\n",
    "import numpy,scipy.integrate,scipy.sparse.linalg"
   ]
  },
  {
   "cell_type": "code",
   "execution_count": 13,
   "id": "e591aadd",
   "metadata": {},
   "outputs": [
    {
     "name": "stderr",
     "output_type": "stream",
     "text": [
      "100%|██████████| 25/25 [00:01<00:00, 15.73it/s]\n"
     ]
    }
   ],
   "source": [
    "def gen_K_b(kappa=1.0):\n",
    "    Kval=[];Kij=[]\n",
    "    b=numpy.zeros(Nipts)\n",
    "    for c in tqdm(cells):\n",
    "        gen_K_cell(c,Kval,Kij,b,kappa)\n",
    "    row=[i[0] for i in Kij]\n",
    "    col=[i[1] for i in Kij]\n",
    "    K=scipy.sparse.coo_matrix((Kval,(row,col)),shape=(Nipts,Nipts))\n",
    "    return K.tocsr(),b\n",
    "\n",
    "def gen_K_cell(cell,Kval,Kij,b,kappa):\n",
    "    xyval=[(xs[i],points[p][0]) for i,p in enumerate(cell)]+[(ys[i],points[p][1]) for i,p in enumerate(cell)]\n",
    "    for i in range(4):\n",
    "        if cell[i] not in bd1st:\n",
    "            f=sympy.lambdify([xi,eta],Ksym[i][i].subs(xyval))\n",
    "            k=kappa*scipy.integrate.dblquad(f,-1,1,-1,1)[0]\n",
    "            indi=g2i[cell[i]]\n",
    "            Kval.append(k)\n",
    "            Kij.append((indi,indi))\n",
    "\n",
    "        for j in range(i):\n",
    "            if cell[i] in bd1st and cell[j] in bd1st:\n",
    "                continue\n",
    "            \n",
    "            f=sympy.lambdify([xi,eta],Ksym[i][j].subs(xyval))\n",
    "            k=kappa*scipy.integrate.dblquad(f,-1,1,-1,1)[0]\n",
    "            \n",
    "            \n",
    "            if cell[i] in bd1st:\n",
    "                #print(\"detect boundary: %d->%d\"%(cell[j],cell[i]))\n",
    "                indj=g2i[cell[j]]\n",
    "                b[indj]-=bd1st[cell[i]]*k\n",
    "                del indj\n",
    "            elif cell[j] in bd1st:\n",
    "                #print(\"detect boundary: %d->%d\"%(cell[i],cell[j]))\n",
    "                b[indi]-=bd1st[cell[j]]*k\n",
    "            else:\n",
    "                indj=g2i[cell[j]]\n",
    "                Kval.append(k);Kval.append(k)\n",
    "                Kij.append((indi,indj))\n",
    "                Kij.append((indj,indi))\n",
    "        try:\n",
    "            del indi\n",
    "        except:\n",
    "            pass\n",
    "        try:\n",
    "            del indj\n",
    "        except:\n",
    "            pass\n",
    "\n",
    "K,b=gen_K_b()"
   ]
  },
  {
   "cell_type": "code",
   "execution_count": 14,
   "id": "4058206e",
   "metadata": {},
   "outputs": [
    {
     "name": "stdout",
     "output_type": "stream",
     "text": [
      "K:\n",
      "   (0, 0)\t2.6666666666666674\n",
      "  (0, 1)\t-0.3333333333333333\n",
      "  (0, 4)\t-0.3333333333333333\n",
      "  (0, 5)\t-0.33333333333333337\n",
      "  (1, 0)\t-0.3333333333333333\n",
      "  (1, 1)\t2.6666666666666674\n",
      "  (1, 2)\t-0.3333333333333333\n",
      "  (1, 4)\t-0.33333333333333337\n",
      "  (1, 5)\t-0.3333333333333333\n",
      "  (1, 6)\t-0.33333333333333337\n",
      "  (2, 1)\t-0.3333333333333333\n",
      "  (2, 2)\t2.6666666666666674\n",
      "  (2, 3)\t-0.3333333333333333\n",
      "  (2, 5)\t-0.33333333333333337\n",
      "  (2, 6)\t-0.3333333333333333\n",
      "  (2, 7)\t-0.33333333333333337\n",
      "  (3, 2)\t-0.3333333333333333\n",
      "  (3, 3)\t2.6666666666666674\n",
      "  (3, 6)\t-0.33333333333333337\n",
      "  (3, 7)\t-0.3333333333333333\n",
      "  (4, 0)\t-0.3333333333333333\n",
      "  (4, 1)\t-0.33333333333333337\n",
      "  (4, 4)\t2.6666666666666674\n",
      "  (4, 5)\t-0.3333333333333333\n",
      "  (4, 8)\t-0.3333333333333333\n",
      "  :\t:\n",
      "  (11, 7)\t-0.3333333333333333\n",
      "  (11, 10)\t-0.3333333333333333\n",
      "  (11, 11)\t2.6666666666666674\n",
      "  (11, 14)\t-0.33333333333333337\n",
      "  (11, 15)\t-0.3333333333333333\n",
      "  (12, 8)\t-0.3333333333333333\n",
      "  (12, 9)\t-0.33333333333333337\n",
      "  (12, 12)\t2.6666666666666674\n",
      "  (12, 13)\t-0.3333333333333333\n",
      "  (13, 8)\t-0.33333333333333337\n",
      "  (13, 9)\t-0.3333333333333333\n",
      "  (13, 10)\t-0.33333333333333337\n",
      "  (13, 12)\t-0.3333333333333333\n",
      "  (13, 13)\t2.6666666666666674\n",
      "  (13, 14)\t-0.3333333333333333\n",
      "  (14, 9)\t-0.33333333333333337\n",
      "  (14, 10)\t-0.3333333333333333\n",
      "  (14, 11)\t-0.33333333333333337\n",
      "  (14, 13)\t-0.3333333333333333\n",
      "  (14, 14)\t2.6666666666666674\n",
      "  (14, 15)\t-0.3333333333333333\n",
      "  (15, 10)\t-0.33333333333333337\n",
      "  (15, 11)\t-0.3333333333333333\n",
      "  (15, 14)\t-0.3333333333333333\n",
      "  (15, 15)\t2.6666666666666674\n",
      "b:\n",
      " [-3.80000001 -2.19999999 -1.79999997 -1.26666665 -1.39999998  0.\n",
      "  0.          0.60000002 -0.59999994  0.          0.          1.40000006\n",
      "  1.26666671  1.80000001  2.20000003  3.80000007]\n"
     ]
    }
   ],
   "source": [
    "print(\"K:\\n\",K)\n",
    "print(\"b:\\n\",b)"
   ]
  },
  {
   "cell_type": "code",
   "execution_count": 15,
   "id": "18d75f5a",
   "metadata": {},
   "outputs": [],
   "source": [
    "x=scipy.sparse.linalg.spsolve(K,b)\n",
    "#print(\"x:\",x)\n",
    "gx=numpy.zeros(Npts)\n",
    "for i in range(Npts):\n",
    "    if i in bd1st:\n",
    "        gx[i]=bd1st[i]\n",
    "    else:\n",
    "        gx[i]=x[g2i[i]]"
   ]
  },
  {
   "cell_type": "code",
   "execution_count": 16,
   "id": "95c2fd21",
   "metadata": {},
   "outputs": [
    {
     "data": {
      "image/png": "[encoded data removed]",
      "text/plain": [
       "<Figure size 432x288 with 1 Axes>"
      ]
     },
     "metadata": {
      "needs_background": "light"
     },
     "output_type": "display_data"
    }
   ],
   "source": [
    "def plot3d(gx):\n",
    "    fig=plt.figure()\n",
    "    ax=fig.add_subplot(projection='3d')\n",
    "    drawn=set()\n",
    "    for c in cells:\n",
    "        for i,j in ((0,1),(1,2),(2,3),(3,0)):\n",
    "            if (c[i],c[j]) in drawn:\n",
    "                continue\n",
    "            xs=[points[c[i]][0],points[c[j]][0]]\n",
    "            ys=[points[c[i]][1],points[c[j]][1]]\n",
    "            zs=[gx[c[i]],gx[c[j]]]\n",
    "            ax.plot(xs,ys,zs,'b')\n",
    "            drawn.add((c[i],c[j]))\n",
    "    ax.azim=-10\n",
    "    plt.show()\n",
    "    \n",
    "plot3d(gx)"
   ]
  }
 ],
 "metadata": {
  "kernelspec": {
   "display_name": "Python 3 (ipykernel)",
   "language": "python",
   "name": "python3"
  },
  "language_info": {
   "codemirror_mode": {
    "name": "ipython",
    "version": 3
   },
   "file_extension": ".py",
   "mimetype": "text/x-python",
   "name": "python",
   "nbconvert_exporter": "python",
   "pygments_lexer": "ipython3",
   "version": "3.8.10"
  }
 },
 "nbformat": 4,
 "nbformat_minor": 5
}
